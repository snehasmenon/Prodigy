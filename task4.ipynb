{
 "cells": [
  {
   "cell_type": "code",
   "execution_count": 1,
   "id": "3b247785",
   "metadata": {},
   "outputs": [],
   "source": [
    "import pandas as pd\n",
    "import matplotlib.pyplot as plt\n",
    "import seaborn as sns\n",
    "import warnings\n",
    "warnings.filterwarnings(\"ignore\")"
   ]
  },
  {
   "cell_type": "code",
   "execution_count": null,
   "id": "b5371014",
   "metadata": {},
   "outputs": [],
   "source": [
    "#Loading Dataset\n",
    "df = pd.read_csv(r\"C:\\Users\\Sneha Vijay\\Downloads\\virtual intern\\prodigy\\US_Accidents_March23.csv\")"
   ]
  },
  {
   "cell_type": "code",
   "execution_count": null,
   "id": "b9389fbf",
   "metadata": {},
   "outputs": [],
   "source": [
    "df.head()"
   ]
  },
  {
   "cell_type": "code",
   "execution_count": null,
   "id": "6d01e5a6",
   "metadata": {},
   "outputs": [],
   "source": [
    "# Check for null values in the entire dataset\n",
    "df.isnull().sum()\n"
   ]
  },
  {
   "cell_type": "code",
   "execution_count": null,
   "id": "2b3c0861",
   "metadata": {},
   "outputs": [],
   "source": [
    "df.info()"
   ]
  },
  {
   "cell_type": "code",
   "execution_count": null,
   "id": "47caecef",
   "metadata": {},
   "outputs": [],
   "source": [
    "df.describe()"
   ]
  },
  {
   "cell_type": "code",
   "execution_count": null,
   "id": "4d3b4c70",
   "metadata": {},
   "outputs": [],
   "source": [
    "sns.boxplot(df)"
   ]
  },
  {
   "cell_type": "code",
   "execution_count": null,
   "id": "63a8db26",
   "metadata": {},
   "outputs": [],
   "source": [
    "##EDA\n",
    "## Time of Day Analysis\n",
    "Accidents['Time'] = pd.to_datetime(Accidents['Time'])\n",
    "Accidents['Hour'] = Accidents['Time'].dt.hour\n",
    "time_of_day_counts = Accidents['Hour'].value_counts().sort_index()\n",
    "plt.figure(figsize=(12, 6))\n",
    "plt.bar(time_of_day_counts.index, time_of_day_counts.values)\n",
    "plt.xlabel('Hour of the Day')\n",
    "plt.ylabel('Accident Count')\n",
    "plt.title('Accidents by Time of Day')\n",
    "plt.show()"
   ]
  },
  {
   "cell_type": "code",
   "execution_count": null,
   "id": "f52308c6",
   "metadata": {},
   "outputs": [],
   "source": [
    "# Road Condition Analysis\n",
    "road_condition_counts = Accidents['Road_surface_conditions'].value_counts()\n",
    "plt.figure(figsize=(10, 6))\n",
    "sns.barplot(x=road_condition_counts.index, y=road_condition_counts.values)\n",
    "plt.xticks(rotation=90)\n",
    "plt.xlabel('Road Conditions')\n",
    "plt.ylabel('Accident Count')\n",
    "plt.title('Accidents by Road Conditions')\n",
    "plt.show()"
   ]
  },
  {
   "cell_type": "code",
   "execution_count": null,
   "id": "0961a9d3",
   "metadata": {},
   "outputs": [],
   "source": [
    "# Weather Analysis\n",
    "weather_counts = Accidents['Weather_conditions'].value_counts()\n",
    "plt.figure(figsize=(10, 6))\n",
    "sns.barplot(x=weather_counts.index, y=weather_counts.values)\n",
    "plt.xticks(rotation=90)\n",
    "plt.xlabel('Weather Conditions')\n",
    "plt.ylabel('Accident Count')\n",
    "plt.title('Accidents by Weather Conditions')\n",
    "plt.show()\n"
   ]
  },
  {
   "cell_type": "code",
   "execution_count": null,
   "id": "101fef66",
   "metadata": {},
   "outputs": [],
   "source": []
  },
  {
   "cell_type": "code",
   "execution_count": null,
   "id": "861fdf04",
   "metadata": {},
   "outputs": [],
   "source": [
    "import random\n",
    "\n",
    "def graph():\n",
    "    # Creating a mix of multiple palettes\n",
    "    base_palette = sns.color_palette(\"pastel\", 5) + sns.color_palette(\"tab20c\", 5) + sns.color_palette(\"tab20b\", 5)\n",
    "    # Sample specific colors from the base palette\n",
    "    colour_list = random.sample(base_palette, 5)\n",
    "    # Blend the palettes to create a new palette\n",
    "    palette = sns.blend_palette([colour for colour in colour_list], 10)\n",
    "    return graph"
   ]
  },
  {
   "cell_type": "code",
   "execution_count": null,
   "id": "f0589998",
   "metadata": {},
   "outputs": [],
   "source": [
    "def subplot(df, i, column, order=None, pallete=random_palette()):\n",
    "    plt.subplot(2, 3 ,i)\n",
    "    sns.barplot(data=Accidents[column].value_counts().reset_index(), x = column, y = 'count', palette=random_palette(), order=order)\n",
    "    plt.xticks(rotation=45)"
   ]
  },
  {
   "cell_type": "code",
   "execution_count": null,
   "id": "808bccb5",
   "metadata": {},
   "outputs": [],
   "source": [
    "sns.set_style('whitegrid')\n",
    "plt.figure(figsize=(15, 8))\n",
    "plt.suptitle(\"Accident Frequency by Category\", fontsize=17)\n",
    "\n",
    "subplot(Accidents, i=1, column = 'Accident_severity')\n",
    "\n",
    "age_order = ['Under 18', '18-30', '31-50', 'Over 51', 'Unknown']\n",
    "subplot(Accidents, i=2, column = 'Age_band_of_driver', order= age_order)\n",
    "\n",
    "day_order = ['Sunday','Monday','Tuesday','Wednesday','Thursday','Friday','Saturday']\n",
    "subplot(Accidents, i=3, column = 'Day_of_week', order=day_order)\n",
    "\n",
    "education_order= [\"Illiterate\", \"Writing & reading\", \"Elementary school\", \"Junior high school\",\"High school\",\"Above high school\",\"Unknown\"]\n",
    "\n",
    "subplot(Accidents, i=4, column = 'Educational_level', order=education_order)\n",
    "\n",
    "subplot(Accidents, i=5, column = 'Types_of_Junction')\n",
    "subplot(Accidents, i=6, column = 'Number_of_vehicles_involved')\n",
    "\n",
    "plt.subplots_adjust(left=0.1, right=0.9, bottom=0.1, top=0.9, wspace=0.4, hspace=0.4)\n",
    "plt.show()"
   ]
  },
  {
   "cell_type": "code",
   "execution_count": null,
   "id": "38506638",
   "metadata": {},
   "outputs": [],
   "source": [
    "# Contributing Factors Analysis\n",
    "contributing_factors_counts = Accidents['Cause_of_accident'].value_counts()\n",
    "plt.bar(contributing_factors_counts.index, contributing_factors_counts.values)\n",
    "plt.xticks(rotation=90)\n",
    "plt.xlabel('Contributing Factors')\n",
    "plt.ylabel('Accident Count')\n",
    "plt.title('Contributing Factors to Accidents')\n",
    "plt.show()"
   ]
  },
  {
   "cell_type": "code",
   "execution_count": null,
   "id": "57c0a730",
   "metadata": {},
   "outputs": [],
   "source": [
    " # Defect in vehicles\n",
    "defect_count = Accidents['Defect_of_vehicle'].value_counts()\n",
    "plt.bar(defect_count.index, defect_count.values)\n",
    "plt.xticks(rotation=90)\n",
    "plt.xlabel('Defect')\n",
    "plt.ylabel('Accident Count')\n",
    "plt.title('Defect in vehicles')\n",
    "plt.show()\n",
    "    "
   ]
  },
  {
   "cell_type": "code",
   "execution_count": null,
   "id": "da523ac0",
   "metadata": {},
   "outputs": [],
   "source": [
    "#Light Conditions\n",
    "Light_count = Accidents['Light_conditions'].value_counts()\n",
    "plt.bar(Light_count.index, Light_count.values)\n",
    "plt.xticks(rotation=90)\n",
    "plt.xlabel('Light')\n",
    "plt.ylabel('Accident Count')\n",
    "plt.title('Light Conditions')\n",
    "plt.show()\n",
    "    "
   ]
  },
  {
   "cell_type": "code",
   "execution_count": null,
   "id": "fe076026",
   "metadata": {},
   "outputs": [],
   "source": [
    "# Driving Experience Analysis\n",
    "exp_counts = Accidents['Driving_experience'].value_counts()\n",
    "plt.figure(figsize=(10, 6))\n",
    "sns.barplot(x=exp_counts.index, y=exp_counts.values)\n",
    "plt.xticks(rotation=90)\n",
    "plt.xlabel('Experience')\n",
    "plt.ylabel('Accident Count')\n",
    "plt.title('Accidents by Driving experience')\n",
    "plt.show()\n"
   ]
  },
  {
   "cell_type": "code",
   "execution_count": null,
   "id": "89627eae",
   "metadata": {},
   "outputs": [],
   "source": [
    "# Age band of casuality\n",
    "age_counts = Accidents['Age_band_of_casualty'].value_counts()\n",
    "plt.figure(figsize=(10, 6))\n",
    "sns.barplot(x=age_counts.index, y=age_counts.values)\n",
    "plt.xticks(rotation=90)\n",
    "plt.xlabel('Casuality Age')\n",
    "plt.ylabel('Accident Count')\n",
    "plt.title('Casuality by age band')\n",
    "plt.show()\n",
    "\n"
   ]
  },
  {
   "cell_type": "code",
   "execution_count": null,
   "id": "59a310db",
   "metadata": {},
   "outputs": [],
   "source": [
    "sns.heatmap(df.corr(),annot=True)"
   ]
  },
  {
   "cell_type": "code",
   "execution_count": null,
   "id": "712bc8da",
   "metadata": {},
   "outputs": [],
   "source": [
    "sns.pairplot(df)"
   ]
  }
 ],
 "metadata": {
  "kernelspec": {
   "display_name": "Python 3 (ipykernel)",
   "language": "python",
   "name": "python3"
  },
  "language_info": {
   "codemirror_mode": {
    "name": "ipython",
    "version": 3
   },
   "file_extension": ".py",
   "mimetype": "text/x-python",
   "name": "python",
   "nbconvert_exporter": "python",
   "pygments_lexer": "ipython3",
   "version": "3.10.9"
  }
 },
 "nbformat": 4,
 "nbformat_minor": 5
}
